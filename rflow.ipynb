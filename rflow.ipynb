{
 "cells": [
  {
   "cell_type": "code",
   "execution_count": 1,
   "id": "f73a0510-eb20-435f-87f8-318875897089",
   "metadata": {},
   "outputs": [],
   "source": [
    "import torch\n",
    "from rf import RF\n",
    "from dit import DiT_Llama"
   ]
  },
  {
   "cell_type": "code",
   "execution_count": 6,
   "id": "cfee149f-3fa0-4703-9c75-def8247d61dc",
   "metadata": {},
   "outputs": [],
   "source": [
    "model_id = \"rf_cifar_13:43:31\"\n",
    "\n",
    "model = DiT_Llama(3, 32, dim=128, n_layers=5, n_heads=4, num_classes=10).cuda()\n",
    "model.load_state_dict(torch.load(f\"weights/{model_id}\"))\n",
    "rf = RF(model)"
   ]
  },
  {
   "cell_type": "code",
   "execution_count": null,
   "id": "8a4bfd17-ade5-42c7-8fcb-88f9071ad006",
   "metadata": {},
   "outputs": [],
   "source": [
    "torch.cuda.empty"
   ]
  },
  {
   "cell_type": "code",
   "execution_count": null,
   "id": "7ea905d3-b13c-4310-9729-3f0d8d5da1f6",
   "metadata": {},
   "outputs": [],
   "source": []
  }
 ],
 "metadata": {
  "kernelspec": {
   "display_name": "torch-env",
   "language": "python",
   "name": "torch-env"
  },
  "language_info": {
   "codemirror_mode": {
    "name": "ipython",
    "version": 3
   },
   "file_extension": ".py",
   "mimetype": "text/x-python",
   "name": "python",
   "nbconvert_exporter": "python",
   "pygments_lexer": "ipython3",
   "version": "3.12.4"
  }
 },
 "nbformat": 4,
 "nbformat_minor": 5
}
